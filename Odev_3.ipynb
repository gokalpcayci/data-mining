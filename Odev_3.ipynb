{
 "cells": [
  {
   "cell_type": "code",
   "execution_count": 1,
   "id": "140f3387-dab3-453c-bfdb-1d16970d9461",
   "metadata": {},
   "outputs": [],
   "source": [
    "#1. Uyarıları kapatınız\n",
    "\n",
    "\n"
   ]
  },
  {
   "cell_type": "code",
   "execution_count": 3,
   "id": "52bc4525-dffe-45f0-b2e2-5c08d95b0716",
   "metadata": {
    "ExecuteTime": {
     "end_time": "2023-12-03T11:27:24.777446Z",
     "start_time": "2023-12-03T11:27:22.783854Z"
    }
   },
   "outputs": [
    {
     "name": "stdout",
     "output_type": "stream",
     "text": [
      "[[10  1]\n",
      " [ 9 17]\n",
      " [10 18]\n",
      " [19  9]\n",
      " [13  3]]\n"
     ]
    }
   ],
   "source": [
    "#2.   0 ile 20 arasında rasgele sayılar alan 10 satır ve 2 sutundan oluşan bir \n",
    "# matris oluşturun\n",
    "import numpy as np\n",
    "matrix = np.random.randint(0, 20, size=(5, 2))\n",
    "print(matrix)\n",
    "\n"
   ]
  },
  {
   "cell_type": "code",
   "execution_count": 10,
   "id": "3632edba-c204-4fd8-9b42-2bf4a4a7a9c4",
   "metadata": {
    "ExecuteTime": {
     "end_time": "2023-12-03T11:38:46.932212Z",
     "start_time": "2023-12-03T11:38:46.925911Z"
    }
   },
   "outputs": [
    {
     "name": "stdout",
     "output_type": "stream",
     "text": [
      "[[ 0  1  2  3  4  5]\n",
      " [ 6  7  8  9 10 11]\n",
      " [12 13 14 15 16 17]\n",
      " [18 19 20 21 22 23]\n",
      " [24 25 26 27 28 29]]\n",
      "a matrix:\n",
      "[[ 0  1]\n",
      " [ 6  7]\n",
      " [12 13]\n",
      " [18 19]\n",
      " [24 25]]\n",
      "b matrix:\n",
      "[[ 2  3]\n",
      " [ 8  9]\n",
      " [14 15]\n",
      " [20 21]\n",
      " [26 27]]\n",
      "c matrix:\n",
      "[[ 4  5]\n",
      " [10 11]\n",
      " [16 17]\n",
      " [22 23]\n",
      " [28 29]]\n"
     ]
    }
   ],
   "source": [
    "#3.  Aşağıdaki komut sonrası oluşturulan ikiboyutlu matrisi 2 ve 4 nolu \n",
    "# sutunlardan ayrıştırarak 3 adet a, b ve c martislerine dönüştürün. \n",
    "import numpy as np\n",
    "m = np.arange(30).reshape(5,6)\n",
    "print(m)\n",
    "\n",
    "a, b, c = np.split(m, [2, 4], axis=1)\n",
    "print(\"a matrix:\")\n",
    "print(a)\n",
    "\n",
    "print(\"b matrix:\")\n",
    "print(b)\n",
    "\n",
    "print(\"c matrix:\")\n",
    "print(c)\n"
   ]
  },
  {
   "cell_type": "code",
   "execution_count": 14,
   "id": "4d89dd6c-b6e4-45fb-866c-c8ff766498fb",
   "metadata": {
    "ExecuteTime": {
     "end_time": "2023-12-03T11:53:44.593901Z",
     "start_time": "2023-12-03T11:53:44.590141Z"
    }
   },
   "outputs": [
    {
     "name": "stdout",
     "output_type": "stream",
     "text": [
      "[[ 0  1  2  3  4  5]\n",
      " [ 6  7  8  9 10 11]\n",
      " [12 13 14 15 16 17]\n",
      " [18 19 20 21 22 23]\n",
      " [24 25 26 27 28 29]]\n",
      "a matrix:\n",
      "[[ 0  1  2  3  4  5]\n",
      " [ 6  7  8  9 10 11]]\n",
      "b matrix:\n",
      "[[12 13 14 15 16 17]\n",
      " [24 25 26 27 28 29]]\n"
     ]
    }
   ],
   "source": [
    "#4.   Aşağıdaki komut sonrası oluşturulan ikiboyutlu matrisi 3 nolu satırdan \n",
    "# ayrıştırarak 2 adet a ve b martislerine dönüştürün\n",
    "m = np.arange(30).reshape(5,6)\n",
    "print(m)\n",
    "new_matrix = np.delete(m, 3, axis=0)\n",
    "a, b = np.array_split(new_matrix, 2, axis=0)\n",
    "print(\"a matrix:\")\n",
    "print(a)\n",
    "print(\"b matrix:\")\n",
    "print(b)\n"
   ]
  },
  {
   "cell_type": "code",
   "execution_count": 17,
   "id": "c126d545-893a-49cb-a4e0-031f6d08756a",
   "metadata": {
    "ExecuteTime": {
     "end_time": "2023-12-03T12:03:23.089445Z",
     "start_time": "2023-12-03T12:03:23.074697Z"
    }
   },
   "outputs": [
    {
     "name": "stdout",
     "output_type": "stream",
     "text": [
      "   sütun1  sütun2\n",
      "0       0      18\n",
      "1       3      17\n",
      "2      17      18\n",
      "3       0       0\n",
      "4       6       1\n",
      "5       6      19\n",
      "6      11      13\n",
      "7       9       8\n",
      "8      14      10\n",
      "9       8      19\n"
     ]
    }
   ],
   "source": [
    "#5.  Aşağıdaki komutlar sonrası oluşturulan a matrisini colon adları “sutun1”,\n",
    "#  ”sutun2” olan dataframe'e dönüştürün.\n",
    "import numpy as np\n",
    "import pandas as pd\n",
    "a=np.random.randint(0,20,(10,2))\n",
    "\n",
    "a = np.random.randint(0, 20, (10, 2))\n",
    "df = pd.DataFrame(a, columns=['sütun1', 'sütun2'])\n",
    "print(df)\n",
    "\n",
    "\n",
    "\n"
   ]
  },
  {
   "cell_type": "code",
   "execution_count": 20,
   "id": "6ce7a531-732f-441a-8244-4ff00e734303",
   "metadata": {
    "ExecuteTime": {
     "end_time": "2023-12-03T12:09:11.370078Z",
     "start_time": "2023-12-03T12:09:11.362940Z"
    }
   },
   "outputs": [
    {
     "name": "stdout",
     "output_type": "stream",
     "text": [
      "     sütun1  sütun2\n",
      "i1        9      10\n",
      "i2       15       0\n",
      "i3        6      11\n",
      "i4        1      12\n",
      "i5       19       5\n",
      "i6       15       7\n",
      "i7       15      16\n",
      "i8       11       3\n",
      "i9        5      11\n",
      "i10      10      13\n"
     ]
    }
   ],
   "source": [
    "#6. Önceki soruda oluşturulan dataframe’in index’lerini “i1”,”i2”,...,”i10” \n",
    "# olarak değiştiriniz\n",
    "\n",
    "import numpy as np\n",
    "import pandas as pd\n",
    "a=np.random.randint(0,20,(10,2))\n",
    "\n",
    "df = pd.DataFrame(a, columns=['sütun1', 'sütun2'])\n",
    "df = df.rename(lambda x: f\"i{x+1}\")\n",
    "print(df)"
   ]
  },
  {
   "cell_type": "code",
   "execution_count": 7,
   "id": "3d301d84-f7de-42fc-b142-c7b481481dd1",
   "metadata": {},
   "outputs": [],
   "source": [
    "#7. Aşağıdaki sözlük yapısındaki 99 değerini 100 olarak değiştirmek için \n",
    "# komutu yazınız. \n",
    "sozluk = {\"A\" : {\"D\":[1,2]},  \"B\" : {\"E\": [3,99,5]},  \"C\" : [\"F\",6]}\n",
    "\n",
    "sozluk.B.E[1] = 100\n"
   ]
  },
  {
   "cell_type": "code",
   "execution_count": 25,
   "id": "b704a65c-6897-41f0-b1d4-6db9b045fae8",
   "metadata": {
    "ExecuteTime": {
     "end_time": "2023-12-03T12:20:58.426743Z",
     "start_time": "2023-12-03T12:20:58.421937Z"
    }
   },
   "outputs": [
    {
     "name": "stdout",
     "output_type": "stream",
     "text": [
      "[[ 1  2]\n",
      " [ 3  4]\n",
      " [ 5  6]\n",
      " [ 7  8]\n",
      " [ 9 10]]\n"
     ]
    }
   ],
   "source": [
    "#8. 1 ile 10 dahil ardışık tam sayılardan oluşan bir numpy dizisi oluşturun \n",
    "# ve bu diziyi 5 satır ve 2 sutundan oluşan bir matrise dönüştürün. \n",
    "\n",
    "import numpy as np\n",
    "\n",
    "arr = np.arange(1, 11)\n",
    "m = np.reshape(arr, (5, 2))\n",
    "\n",
    "print(m)\n",
    "\n"
   ]
  },
  {
   "cell_type": "code",
   "execution_count": 38,
   "id": "8f5a708d-f547-453a-a973-222597f23363",
   "metadata": {
    "ExecuteTime": {
     "end_time": "2023-12-03T12:26:13.109261Z",
     "start_time": "2023-12-03T12:26:13.106111Z"
    }
   },
   "outputs": [
    {
     "name": "stdout",
     "output_type": "stream",
     "text": [
      "   sutun1  sutun2  toplam\n",
      "0       1       2       3\n",
      "1       4       5       9\n",
      "2       7       8      15\n",
      "3      10      11      21\n",
      "4      13      14      27\n"
     ]
    }
   ],
   "source": [
    "#9. Önceki soruda oluşturulan matrisi bir dataframe!e dönüştürün ve bu dataframe’e \n",
    "# ilk 2 sutun toplamlarından oluşan yeni bir “toplam” adlı sutun ekleyin. \n",
    "import pandas as pd\n",
    "import numpy as np\n",
    "arr = np.arange(1, 16)\n",
    "m = np.reshape(arr, (5, 3))\n",
    "\n",
    "df = pd.DataFrame(m, columns=['sutun1', 'sutun2', 'toplam'])\n",
    "df['toplam'] = df['sutun1'] + df['sutun2']\n",
    "print(df)\n",
    "\n"
   ]
  },
  {
   "cell_type": "code",
   "execution_count": 39,
   "id": "37e80d63-a669-463b-a601-519be90e9421",
   "metadata": {
    "ExecuteTime": {
     "end_time": "2023-12-03T12:27:38.525433Z",
     "start_time": "2023-12-03T12:27:38.520232Z"
    }
   },
   "outputs": [
    {
     "name": "stdout",
     "output_type": "stream",
     "text": [
      "[[1 2 3 4]\n",
      " [5 6 7 8]]\n"
     ]
    }
   ],
   "source": [
    "#10. İki adet a = [1,2,3,4] ve b = [5,6,7,8] numpy dizisi oluşturun ve bu dizileri \n",
    "# içeren yeni bir 2 boyutlu c numpy matrisi oluşturun. \n",
    "\n",
    "import numpy as np\n",
    "a = np.array([1, 2, 3, 4])\n",
    "b = np.array([5, 6, 7, 8])\n",
    "\n",
    "c = np.array([a, b])\n",
    "print(c)\n",
    "\n",
    "\n"
   ]
  },
  {
   "cell_type": "code",
   "execution_count": 42,
   "id": "de738399-2871-439c-902c-6d875a3644af",
   "metadata": {
    "ExecuteTime": {
     "end_time": "2023-12-03T12:29:44.377868Z",
     "start_time": "2023-12-03T12:29:44.373726Z"
    }
   },
   "outputs": [
    {
     "name": "stdout",
     "output_type": "stream",
     "text": [
      "[14 15 15 12 15 16 14 15 19 14]\n",
      "[15 15 15 16 15 19]\n"
     ]
    }
   ],
   "source": [
    "#11. 10 ile 20 arasında 10 adet rasgele tam sayıdan oluşan bir numpy dizisi oluşturun \n",
    "# ve bu dizinin ortalamasından büyük olan sayılardan oluşan listeyi yazdırınız. \n",
    "\n",
    "\n",
    "import numpy as np\n",
    "m = np.random.choice(range(10, 20), 10)\n",
    "\n",
    "print(m)\n",
    "print(m[m > m.mean()])\n",
    "\n"
   ]
  },
  {
   "cell_type": "code",
   "execution_count": 50,
   "id": "734891ff-1e33-4ed4-a242-a58e392ec305",
   "metadata": {
    "ExecuteTime": {
     "end_time": "2023-12-03T12:50:04.504437Z",
     "start_time": "2023-12-03T12:50:04.499215Z"
    }
   },
   "outputs": [
    {
     "name": "stdout",
     "output_type": "stream",
     "text": [
      "[  7  11 -43  48  -1  31  30 -34  48 -13]\n",
      "[-1.62018517 -1.38873015 -1.15727512 -0.9258201  -0.69436507 -0.46291005\n",
      " -0.23145502  0.          0.23145502  0.46291005  0.69436507  0.9258201\n",
      "  1.15727512  1.38873015  1.62018517]\n"
     ]
    }
   ],
   "source": [
    "#12. -50 ile 50 arası rasgele sayılardan oluşan 10 elemanlık bir numpy dizisi oluşturun. \n",
    "# Bu elemanların Z-score normalleştirilmiş değerlerinden oluşan b dizisi oluşturunuz\n",
    "\n",
    "import numpy as np\n",
    "from scipy.stats import zscore\n",
    "\n",
    "n = np.random.choice(range(-50, 51), 10)\n",
    "print(n)\n",
    "\n",
    "b = zscore(arr)\n",
    "print(b)\n",
    "\n"
   ]
  },
  {
   "cell_type": "code",
   "execution_count": 52,
   "id": "265da436-377f-4740-85a7-5b1146da4aea",
   "metadata": {
    "ExecuteTime": {
     "end_time": "2023-12-03T12:51:44.973664Z",
     "start_time": "2023-12-03T12:51:44.967888Z"
    }
   },
   "outputs": [
    {
     "name": "stdout",
     "output_type": "stream",
     "text": [
      "         veri\n",
      "gruplar      \n",
      "A        16.5\n",
      "B        27.0\n",
      "C        53.5\n"
     ]
    }
   ],
   "source": [
    "#13. Aşağıdaki şekilde bir dataframe oluşturulmuştur. Bu dataframe’in gruplara göre \n",
    "# veri ortalamalarını yansıtan tabloyu yazdıran komutu yazınız.\n",
    "import pandas as pd\n",
    "df = pd.DataFrame({'gruplar': ['A', 'B', 'C', 'A', 'B', 'C'],\n",
    "                   'veri': [10,11,52,23,43,55]}, columns=['gruplar', 'veri'])\n",
    "\n",
    "print(df.groupby('gruplar').mean())\n",
    "\n"
   ]
  },
  {
   "cell_type": "code",
   "execution_count": 14,
   "id": "93eb822f-7256-43b4-a5b4-8dd828c4b7ca",
   "metadata": {},
   "outputs": [],
   "source": [
    "#14. “;” karakterleri ile ayrılmış veriler içeren dış kaynaklı “veri.csv” dosyasını \n",
    "# bir dataframe’e okumak için komutu yazınız\n",
    "\n"
   ]
  },
  {
   "cell_type": "code",
   "execution_count": 56,
   "id": "9dcd70e3-9710-4442-aaaf-bc3946e82ece",
   "metadata": {
    "ExecuteTime": {
     "end_time": "2023-12-03T12:55:35.931742Z",
     "start_time": "2023-12-03T12:55:35.924212Z"
    }
   },
   "outputs": [
    {
     "data": {
      "text/plain": "'GOKALP'"
     },
     "execution_count": 56,
     "metadata": {},
     "output_type": "execute_result"
    }
   ],
   "source": [
    "#15. Parametre olarak aldığı bir kelimeyi tümüyle büyük karakterlere dönüştürerek \n",
    "# geri döndüren \"funk\" adlı bir fonksiyonun tanımını yazınız. \n",
    "\n",
    "def funk(word):\n",
    "    return word.upper()\n",
    "\n",
    "funk(\"gokalp\")\n",
    "\n"
   ]
  },
  {
   "cell_type": "code",
   "execution_count": 63,
   "id": "0077179a-cdfc-4071-ae93-d5c6a6fb5e61",
   "metadata": {
    "ExecuteTime": {
     "end_time": "2023-12-03T13:34:30.687899Z",
     "start_time": "2023-12-03T13:34:30.678418Z"
    }
   },
   "outputs": [
    {
     "name": "stdout",
     "output_type": "stream",
     "text": [
      "    mpg  cylinders  displacement  horsepower  weight  acceleration  \\\n",
      "0  18.0          8         307.0       130.0    3504          12.0   \n",
      "1  15.0          8         350.0       165.0    3693          11.5   \n",
      "2  18.0          8         318.0       150.0    3436          11.0   \n",
      "3  16.0          8         304.0       150.0    3433          12.0   \n",
      "4  17.0          8         302.0       140.0    3449          10.5   \n",
      "5  15.0          8         429.0       198.0    4341          10.0   \n",
      "6  14.0          8         454.0       220.0    4354           9.0   \n",
      "7  14.0          8         440.0       215.0    4312           8.5   \n",
      "8  14.0          8         455.0       225.0    4425          10.0   \n",
      "9  15.0          8         390.0       190.0    3850           8.5   \n",
      "\n",
      "   model_year origin                       name  \n",
      "0          70    usa  chevrolet chevelle malibu  \n",
      "1          70    usa          buick skylark 320  \n",
      "2          70    usa         plymouth satellite  \n",
      "3          70    usa              amc rebel sst  \n",
      "4          70    usa                ford torino  \n",
      "5          70    usa           ford galaxie 500  \n",
      "6          70    usa           chevrolet impala  \n",
      "7          70    usa          plymouth fury iii  \n",
      "8          70    usa           pontiac catalina  \n",
      "9          70    usa         amc ambassador dpl  \n"
     ]
    }
   ],
   "source": [
    "#16. Python’da “seaborn” kütüphanesinden “mpg.csv” veri setini indiriniz, \n",
    "# veri seti bilgilerini yazdırınız (info),\n",
    "# veri setinin ilk 10 satrını ekrana yazdırınız\n",
    "import ssl\n",
    "import seaborn as sns\n",
    "ssl._create_default_https_context = ssl._create_unverified_context\n",
    "\n",
    "\n",
    "df = sns.load_dataset('mpg')\n",
    "print(df.head(10))\n",
    "\n"
   ]
  },
  {
   "cell_type": "code",
   "execution_count": 64,
   "id": "7677e420-c15f-4f6e-be0b-42319cf8b25e",
   "metadata": {
    "ExecuteTime": {
     "end_time": "2023-12-03T13:34:58.819196Z",
     "start_time": "2023-12-03T13:34:58.790467Z"
    }
   },
   "outputs": [
    {
     "name": "stdout",
     "output_type": "stream",
     "text": [
      "              mpg   cylinders  displacement  horsepower       weight  \\\n",
      "count  398.000000  398.000000    398.000000  392.000000   398.000000   \n",
      "mean    23.514573    5.454774    193.425879  104.469388  2970.424623   \n",
      "std      7.815984    1.701004    104.269838   38.491160   846.841774   \n",
      "min      9.000000    3.000000     68.000000   46.000000  1613.000000   \n",
      "25%     17.500000    4.000000    104.250000   75.000000  2223.750000   \n",
      "50%     23.000000    4.000000    148.500000   93.500000  2803.500000   \n",
      "75%     29.000000    8.000000    262.000000  126.000000  3608.000000   \n",
      "max     46.600000    8.000000    455.000000  230.000000  5140.000000   \n",
      "\n",
      "       acceleration  model_year  \n",
      "count    398.000000  398.000000  \n",
      "mean      15.568090   76.010050  \n",
      "std        2.757689    3.697627  \n",
      "min        8.000000   70.000000  \n",
      "25%       13.825000   73.000000  \n",
      "50%       15.500000   76.000000  \n",
      "75%       17.175000   79.000000  \n",
      "max       24.800000   82.000000  \n"
     ]
    }
   ],
   "source": [
    "#17. veri setinin uygun atributlraına göre ortalama, varyans, min, max, vs. \n",
    "# değerleri yazdırınız,\n",
    "import ssl\n",
    "import seaborn as sns\n",
    "ssl._create_default_https_context = ssl._create_unverified_context\n",
    "\n",
    "\n",
    "df = sns.load_dataset('mpg')\n",
    "print(df.describe())\n"
   ]
  },
  {
   "cell_type": "code",
   "execution_count": 65,
   "id": "2ae33403-044e-4959-8d91-860166b468d0",
   "metadata": {
    "ExecuteTime": {
     "end_time": "2023-12-03T13:37:46.220998Z",
     "start_time": "2023-12-03T13:37:46.049610Z"
    }
   },
   "outputs": [
    {
     "data": {
      "text/plain": "<Figure size 640x480 with 1 Axes>",
      "image/png": "[encoded data removed]"
     },
     "metadata": {},
     "output_type": "display_data"
    }
   ],
   "source": [
    "#18. “horsepower” ve “weight” atributları için, “origin” kırılımına (hue) \n",
    "# göre “scatter plot” grafiğini oluşturunuz\n",
    "\n",
    "import ssl\n",
    "import seaborn as sns\n",
    "import matplotlib.pyplot as plt\n",
    "\n",
    "ssl._create_default_https_context = ssl._create_unverified_context\n",
    "\n",
    "df = sns.load_dataset('mpg')\n",
    "sns.scatterplot(x='horsepower', y='weight', hue='origin', data=df)\n",
    "plt.show()\n"
   ]
  },
  {
   "cell_type": "code",
   "execution_count": 66,
   "id": "ae1418ce-b86c-41cc-bd41-8b5708f398b3",
   "metadata": {
    "ExecuteTime": {
     "end_time": "2023-12-03T13:38:28.117568Z",
     "start_time": "2023-12-03T13:38:28.104202Z"
    }
   },
   "outputs": [
    {
     "name": "stdout",
     "output_type": "stream",
     "text": [
      "                   mpg  acceleration\n",
      "mpg           1.000000      0.301096\n",
      "acceleration  0.301096      1.000000\n"
     ]
    }
   ],
   "source": [
    "#19. “mpg” ve “acceleration” değişkenleri arasında Kendall \n",
    "# korelasyon katsayısını hesaplamalı ve yazdırmalı.\n",
    "\n",
    "import ssl\n",
    "import seaborn as sns\n",
    "ssl._create_default_https_context = ssl._create_unverified_context\n",
    "\n",
    "df = sns.load_dataset('mpg')\n",
    "print(df[['mpg', 'acceleration']].corr(method='kendall'))\n",
    "\n"
   ]
  },
  {
   "cell_type": "code",
   "execution_count": 68,
   "id": "c6bca969-0c80-4b20-9097-d1bc2c42b498",
   "metadata": {
    "ExecuteTime": {
     "end_time": "2023-12-03T13:49:22.471694Z",
     "start_time": "2023-12-03T13:49:22.269193Z"
    }
   },
   "outputs": [
    {
     "name": "stdout",
     "output_type": "stream",
     "text": [
      "45.67829287695592\n",
      "[-0.04749562 -0.00206566 -0.0057894 ]\n",
      "0.7063754859981903\n"
     ]
    }
   ],
   "source": [
    "#20. “horsepower”, “acceleration” ve “weight” değişkenlerine göre \n",
    "# “mpg” değerinin tahmini için \n",
    "# LinearRegression() modeli oluşturunuz\n",
    "# Modelin intercept ve katsayılarını yazdırınız\n",
    "# NOT: kayıp veriler olabilir. Gerekirse kayıp verileri siliniz.\n",
    "\n",
    "import ssl\n",
    "import seaborn as sns\n",
    "from sklearn.linear_model import LinearRegression\n",
    "ssl._create_default_https_context = ssl._create_unverified_context\n",
    "\n",
    "\n",
    "\n",
    "df = sns.load_dataset('mpg')\n",
    "df = df.dropna()\n",
    "\n",
    "X = df[['horsepower', 'acceleration', 'weight']]\n",
    "y = df['mpg']\n",
    "\n",
    "model = LinearRegression().fit(X, y)\n",
    "print(model.intercept_)\n",
    "print(model.coef_)\n",
    "print(model.score(X, y))\n"
   ]
  },
  {
   "cell_type": "code",
   "execution_count": 69,
   "id": "74875a82-54fd-4b19-820d-94266a4ac530",
   "metadata": {
    "ExecuteTime": {
     "end_time": "2023-12-03T13:57:38.907443Z",
     "start_time": "2023-12-03T13:57:38.892245Z"
    }
   },
   "outputs": [
    {
     "name": "stdout",
     "output_type": "stream",
     "text": [
      "R-squared değeri: 0.6926304331206254\n"
     ]
    }
   ],
   "source": [
    "#21. Oluşturulan modelin R-squared değerini yazdırınız\n",
    "\n",
    "\n",
    "import ssl\n",
    "import seaborn as sns\n",
    "from sklearn.linear_model import LinearRegression\n",
    "ssl._create_default_https_context = ssl._create_unverified_context\n",
    "\n",
    "df = sns.load_dataset('mpg')\n",
    "df = df.dropna()\n",
    "\n",
    "X = df[['weight']]\n",
    "y = df['mpg']\n",
    "\n",
    "model = LinearRegression()\n",
    "model.fit(X, y)\n",
    "\n",
    "r_squared = model.score(X, y)\n",
    "print(\"R-squared değeri:\", r_squared)\n",
    "\n",
    "\n",
    "\n"
   ]
  },
  {
   "cell_type": "code",
   "execution_count": 70,
   "id": "a923848f-54ba-46ad-a7e1-4d188b8df12d",
   "metadata": {
    "ExecuteTime": {
     "end_time": "2023-12-03T14:02:12.675877Z",
     "start_time": "2023-12-03T14:02:12.660801Z"
    }
   },
   "outputs": [
    {
     "name": "stdout",
     "output_type": "stream",
     "text": [
      "[19.21410026]\n"
     ]
    },
    {
     "name": "stderr",
     "output_type": "stream",
     "text": [
      "/Users/gokalpcayci/PycharmProjects/pythonProject2/venv/lib/python3.11/site-packages/sklearn/base.py:465: UserWarning: X does not have valid feature names, but LinearRegression was fitted with feature names\n",
      "  warnings.warn(\n"
     ]
    }
   ],
   "source": [
    "#22. horsepower = 130, acceleration=13, weight=3500 olan bir \n",
    "# otomobilin “mpg” değerini tahmin ediniz.\n",
    "\n",
    "\n",
    "import ssl\n",
    "import seaborn as sns\n",
    "from sklearn.linear_model import LinearRegression\n",
    "ssl._create_default_https_context = ssl._create_unverified_context\n",
    "\n",
    "df = sns.load_dataset('mpg')\n",
    "df = df.dropna()\n",
    "\n",
    "X = df[['horsepower', 'acceleration', 'weight']]\n",
    "y = df['mpg']\n",
    "\n",
    "model = LinearRegression().fit(X, y)\n",
    "print(model.predict([[130, 13, 3500]]))\n"
   ]
  },
  {
   "cell_type": "code",
   "execution_count": 71,
   "id": "9352d8c3-54a5-47d3-bf47-db5c4a535000",
   "metadata": {
    "ExecuteTime": {
     "end_time": "2023-12-03T14:06:32.254158Z",
     "start_time": "2023-12-03T14:06:32.007835Z"
    }
   },
   "outputs": [
    {
     "name": "stdout",
     "output_type": "stream",
     "text": [
      "0.9493670886075949\n"
     ]
    }
   ],
   "source": [
    "#23. “mpg.csv” veri setini, “mpg”, “displacement”,”horsepower”,”weight” \n",
    "# ve “acceleration” değişkenlerine göre \n",
    "# “origin” değerinin tahmini için %20 test,%80 eğitim oranında ayrıştırınız. Eğitim setini kullanarak \n",
    "# RandomForest sınıflandırma modeli oluşturunuz\n",
    "\n",
    "import ssl\n",
    "import seaborn as sns\n",
    "from sklearn.model_selection import train_test_split\n",
    "from sklearn.ensemble import RandomForestClassifier\n",
    "ssl._create_default_https_context = ssl._create_unverified_context\n",
    "\n",
    "df = sns.load_dataset('mpg')\n",
    "df = df.dropna()\n",
    "\n",
    "X = df[['mpg', 'displacement', 'horsepower', 'weight', 'acceleration']]\n",
    "y = df['origin']\n",
    "\n",
    "X_train, X_test, y_train, y_test = train_test_split(X, y, test_size=0.2)\n",
    "\n",
    "model = RandomForestClassifier()\n",
    "model.fit(X_train, y_train)\n",
    "\n",
    "print(model.score(X_test, y_test))\n",
    "\n"
   ]
  },
  {
   "cell_type": "code",
   "execution_count": 72,
   "id": "7cbc8680-966e-48ec-8273-4a32568cc434",
   "metadata": {
    "ExecuteTime": {
     "end_time": "2023-12-03T14:09:26.002867Z",
     "start_time": "2023-12-03T14:09:25.913462Z"
    }
   },
   "outputs": [
    {
     "name": "stdout",
     "output_type": "stream",
     "text": [
      "0.8607594936708861\n"
     ]
    }
   ],
   "source": [
    "#24. Oluşturulan modelin test seti üzerinde doğruluk (accuracy) skorunu hesaplayınız,\n",
    "\n",
    "\n",
    "\n",
    "import ssl\n",
    "import seaborn as sns\n",
    "from sklearn.model_selection import train_test_split\n",
    "from sklearn.ensemble import RandomForestClassifier\n",
    "ssl._create_default_https_context = ssl._create_unverified_context\n",
    "\n",
    "df = sns.load_dataset('mpg')\n",
    "df = df.dropna()\n",
    "\n",
    "X = df[['mpg', 'displacement', 'horsepower', 'weight', 'acceleration']]\n",
    "y = df['origin']\n",
    "\n",
    "X_train, X_test, y_train, y_test = train_test_split(X, y, test_size=0.2)\n",
    "\n",
    "model = RandomForestClassifier()\n",
    "model.fit(X_train, y_train)\n",
    "\n",
    "print(model.score(X_test, y_test))\n"
   ]
  },
  {
   "cell_type": "code",
   "execution_count": 73,
   "id": "194c919d-0e04-4234-9311-3ce9679cf715",
   "metadata": {
    "ExecuteTime": {
     "end_time": "2023-12-03T14:12:27.631054Z",
     "start_time": "2023-12-03T14:12:27.530718Z"
    }
   },
   "outputs": [
    {
     "name": "stdout",
     "output_type": "stream",
     "text": [
      "[0.14292129 0.3562822  0.1854023  0.18895993 0.12643428]\n",
      "Index(['mpg', 'displacement', 'horsepower', 'weight', 'acceleration'], dtype='object')\n"
     ]
    }
   ],
   "source": [
    "#25.Değişkenlerin önem derecelerini (Importance) yazdırınız.\n",
    "\n",
    "\n",
    "\n",
    "import ssl\n",
    "import seaborn as sns\n",
    "from sklearn.model_selection import train_test_split\n",
    "from sklearn.ensemble import RandomForestClassifier\n",
    "ssl._create_default_https_context = ssl._create_unverified_context\n",
    "\n",
    "df = sns.load_dataset('mpg')\n",
    "df = df.dropna()\n",
    "\n",
    "X = df[['mpg', 'displacement', 'horsepower', 'weight', 'acceleration']]\n",
    "y = df['origin']\n",
    "\n",
    "X_train, X_test, y_train, y_test = train_test_split(X, y, test_size=0.2)\n",
    "\n",
    "model = RandomForestClassifier()\n",
    "model.fit(X_train, y_train)\n",
    "\n",
    "print(model.feature_importances_)\n"
   ]
  }
 ],
 "metadata": {
  "kernelspec": {
   "display_name": "Python 3 (ipykernel)",
   "language": "python",
   "name": "python3"
  },
  "language_info": {
   "codemirror_mode": {
    "name": "ipython",
    "version": 3
   },
   "file_extension": ".py",
   "mimetype": "text/x-python",
   "name": "python",
   "nbconvert_exporter": "python",
   "pygments_lexer": "ipython3",
   "version": "3.9.13"
  }
 },
 "nbformat": 4,
 "nbformat_minor": 5
}
